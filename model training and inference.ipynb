{
 "cells": [
  {
   "cell_type": "code",
   "execution_count": 1,
   "id": "d4ee3c9e",
   "metadata": {},
   "outputs": [],
   "source": [
    "import pickle\n",
    "import numpy as np\n",
    "from model import Encoder, Decoder\n",
    "from model_trainer import ModelTrainer\n",
    "import tensorflow as tf\n",
    "import pandas as pd\n"
   ]
  },
  {
   "cell_type": "code",
   "execution_count": 2,
   "id": "4fc60d3e",
   "metadata": {},
   "outputs": [],
   "source": [
    "# load tokensised sequences\n",
    "with open('data.pkl','rb') as f:\n",
    "    xtrain,xtest,ytrain,ytest = pickle.load(f)\n",
    "\n",
    "# load tokenizers\n",
    "with open('xtk.pkl','rb') as f:\n",
    "    xtk = pickle.load(f)\n",
    "    \n",
    "with open('ytk.pkl','rb') as f:\n",
    "    ytk = pickle.load(f)"
   ]
  },
  {
   "cell_type": "code",
   "execution_count": 3,
   "id": "ab86fcc0",
   "metadata": {},
   "outputs": [
    {
     "name": "stdout",
     "output_type": "stream",
     "text": [
      "Loading Glove Model\n",
      "400000 words loaded!\n"
     ]
    }
   ],
   "source": [
    "UNITS = 128\n",
    "EMB_DIM = 100\n",
    "\n",
    "# load pretrained glove embeddings\n",
    "def load_glove_model(File):\n",
    "    print(\"Loading Glove Model\")\n",
    "    glove_model = {}\n",
    "    with open(File,'r',encoding='utf-8') as f:\n",
    "        for line in f:\n",
    "            split_line = line.split()\n",
    "            word = split_line[0]\n",
    "            embedding = np.array(split_line[1:], dtype=np.float64)\n",
    "            glove_model[word] = embedding\n",
    "    print(f\"{len(glove_model)} words loaded!\")\n",
    "    return glove_model\n",
    " \n",
    "glove_embeddings = load_glove_model(\"D:/glove.6B.\"+str(EMB_DIM)+\"d.txt\")\n",
    "\n",
    "x_emb = np.zeros((xtk.num_words+1,EMB_DIM))\n",
    "for w,idx in xtk.word_index.items():\n",
    "    try: x_emb[idx] = glove_embeddings[w]\n",
    "    except: pass\n",
    "\n",
    "y_emb = np.zeros((ytk.num_words+1,EMB_DIM))\n",
    "for w,idx in ytk.word_index.items():\n",
    "    try: y_emb[idx] = glove_embeddings[w]\n",
    "    except: pass    "
   ]
  },
  {
   "cell_type": "code",
   "execution_count": 4,
   "id": "980ce87b",
   "metadata": {},
   "outputs": [
    {
     "name": "stdout",
     "output_type": "stream",
     "text": [
      "Model: \"model\"\n",
      "__________________________________________________________________________________________________\n",
      " Layer (type)                   Output Shape         Param #     Connected to                     \n",
      "==================================================================================================\n",
      " input_1 (InputLayer)           [(None, 97)]         0           []                               \n",
      "                                                                                                  \n",
      " embedding (Embedding)          (None, 97, 100)      3484200     ['input_1[0][0]']                \n",
      "                                                                                                  \n",
      " bidirectional (Bidirectional)  [(None, 97, 256),    234496      ['embedding[0][0]']              \n",
      "                                 (None, 128),                                                     \n",
      "                                 (None, 128),                                                     \n",
      "                                 (None, 128),                                                     \n",
      "                                 (None, 128)]                                                     \n",
      "                                                                                                  \n",
      " tf.concat (TFOpLambda)         (None, 256)          0           ['bidirectional[0][1]',          \n",
      "                                                                  'bidirectional[0][3]']          \n",
      "                                                                                                  \n",
      " tf.concat_1 (TFOpLambda)       (None, 256)          0           ['bidirectional[0][2]',          \n",
      "                                                                  'bidirectional[0][4]']          \n",
      "                                                                                                  \n",
      "==================================================================================================\n",
      "Total params: 3,718,696\n",
      "Trainable params: 3,718,696\n",
      "Non-trainable params: 0\n",
      "__________________________________________________________________________________________________\n",
      "None\n"
     ]
    }
   ],
   "source": [
    "# build encoder\n",
    "en_model = Encoder(units=UNITS, emb_dim=EMB_DIM, voc=xtk.num_words+1, pretrained_embeddings=[x_emb])\n",
    "en_model.build((None,100))\n",
    "en_model.summary(xtrain.shape[-1])\n",
    "en_in = tf.keras.layers.Input(shape=(xtrain.shape[-1]))\n",
    "en_out,en_h,en_c = en_model(en_in)"
   ]
  },
  {
   "cell_type": "code",
   "execution_count": 5,
   "id": "8893bed3",
   "metadata": {},
   "outputs": [
    {
     "name": "stdout",
     "output_type": "stream",
     "text": [
      "Model: \"model_1\"\n",
      "__________________________________________________________________________________________________\n",
      " Layer (type)                   Output Shape         Param #     Connected to                     \n",
      "==================================================================================================\n",
      " input_4 (InputLayer)           [(None, 256)]        0           []                               \n",
      "                                                                                                  \n",
      " input_6 (InputLayer)           [(None, 97, 256)]    0           []                               \n",
      "                                                                                                  \n",
      " input_3 (InputLayer)           [(None, 1)]          0           []                               \n",
      "                                                                                                  \n",
      " luong_attention (LuongAttentio  (None, 256)         131841      ['input_4[0][0]',                \n",
      " n)                                                               'input_6[0][0]']                \n",
      "                                                                                                  \n",
      " embedding_1 (Embedding)        (None, 1, 100)       1539800     ['input_3[0][0]']                \n",
      "                                                                                                  \n",
      " tf.expand_dims (TFOpLambda)    (None, 1, 256)       0           ['luong_attention[1][0]']        \n",
      "                                                                                                  \n",
      " tf.concat_2 (TFOpLambda)       (None, 1, 356)       0           ['embedding_1[1][0]',            \n",
      "                                                                  'tf.expand_dims[1][0]']         \n",
      "                                                                                                  \n",
      " input_5 (InputLayer)           [(None, 256)]        0           []                               \n",
      "                                                                                                  \n",
      " lstm_1 (LSTM)                  [(None, 1, 256),     627712      ['tf.concat_2[1][0]',            \n",
      "                                 (None, 256),                     'input_4[0][0]',                \n",
      "                                 (None, 256)]                     'input_5[0][0]']                \n",
      "                                                                                                  \n",
      " tf.reshape (TFOpLambda)        (None, 256)          0           ['lstm_1[1][0]']                 \n",
      "                                                                                                  \n",
      " dense (Dense)                  (None, 15398)        3957286     ['tf.reshape[1][0]']             \n",
      "                                                                                                  \n",
      "==================================================================================================\n",
      "Total params: 6,256,639\n",
      "Trainable params: 6,256,639\n",
      "Non-trainable params: 0\n",
      "__________________________________________________________________________________________________\n",
      "None\n"
     ]
    }
   ],
   "source": [
    "# build decoder\n",
    "dec_model = Decoder(units=en_h.shape[-1],emb_dim=EMB_DIM,voc=ytk.num_words+1,pretrained_embeddings=[y_emb])\n",
    "dec_in = tf.keras.layers.Input(shape=(1))\n",
    "input_shape = [dec_in.shape,en_h.shape,en_c.shape,en_out.shape]\n",
    "dec_model.build(input_shape=input_shape)\n",
    "dec_model.summary([dec_in,en_h,en_c,en_out])"
   ]
  },
  {
   "cell_type": "code",
   "execution_count": 6,
   "id": "5636191e",
   "metadata": {},
   "outputs": [],
   "source": [
    "# initialise loss function and optimizer\n",
    "sparse_loss = tf.keras.losses.SparseCategoricalCrossentropy()\n",
    "adam = tf.keras.optimizers.Adam(learning_rate=7e-4)"
   ]
  },
  {
   "cell_type": "code",
   "execution_count": 7,
   "id": "70768a5e",
   "metadata": {},
   "outputs": [],
   "source": [
    "# initialise model trainer\n",
    "trainer = ModelTrainer(optimizer=adam, \n",
    "                       loss_function=sparse_loss, \n",
    "                       encoder_model=en_model, \n",
    "                       decoder_model=dec_model, \n",
    "                       x_tokenizer=xtk, \n",
    "                       y_tokenizer=ytk)"
   ]
  },
  {
   "cell_type": "code",
   "execution_count": 8,
   "id": "b24e2d78",
   "metadata": {
    "scrolled": false
   },
   "outputs": [
    {
     "name": "stdout",
     "output_type": "stream",
     "text": [
      "epoch = 1/15 learning rate = 0.000699999975040555\n"
     ]
    },
    {
     "name": "stderr",
     "output_type": "stream",
     "text": [
      "100%|██████████████████████████████████████████████████████████████████████████████| 2460/2460 [05:19<00:00,  7.70it/s]\n"
     ]
    },
    {
     "name": "stdout",
     "output_type": "stream",
     "text": [
      "train_loss = 3.4803093788632538\n",
      "val_loss = 3.0335032273114213\n",
      "best weights saved\n",
      "\n",
      "epoch = 2/15 learning rate = 0.000699999975040555\n"
     ]
    },
    {
     "name": "stderr",
     "output_type": "stream",
     "text": [
      "100%|██████████████████████████████████████████████████████████████████████████████| 2460/2460 [08:04<00:00,  5.08it/s]\n"
     ]
    },
    {
     "name": "stdout",
     "output_type": "stream",
     "text": [
      "train_loss = 2.8012175778152013\n",
      "val_loss = 2.6671472991385112\n",
      "best weights saved\n",
      "\n",
      "epoch = 3/15 learning rate = 0.000699999975040555\n"
     ]
    },
    {
     "name": "stderr",
     "output_type": "stream",
     "text": [
      "100%|██████████████████████████████████████████████████████████████████████████████| 2460/2460 [10:00<00:00,  4.09it/s]\n"
     ]
    },
    {
     "name": "stdout",
     "output_type": "stream",
     "text": [
      "train_loss = 2.4338030203322463\n",
      "val_loss = 2.463363547441436\n",
      "best weights saved\n",
      "\n",
      "epoch = 4/15 learning rate = 0.000699999975040555\n"
     ]
    },
    {
     "name": "stderr",
     "output_type": "stream",
     "text": [
      "100%|██████████████████████████████████████████████████████████████████████████████| 2460/2460 [09:32<00:00,  4.29it/s]\n"
     ]
    },
    {
     "name": "stdout",
     "output_type": "stream",
     "text": [
      "train_loss = 2.1580956292472364\n",
      "val_loss = 2.3190300220396463\n",
      "best weights saved\n",
      "\n",
      "epoch = 5/15 learning rate = 0.000699999975040555\n"
     ]
    },
    {
     "name": "stderr",
     "output_type": "stream",
     "text": [
      "100%|██████████████████████████████████████████████████████████████████████████████| 2460/2460 [10:03<00:00,  4.07it/s]\n"
     ]
    },
    {
     "name": "stdout",
     "output_type": "stream",
     "text": [
      "train_loss = 1.9423766287423188\n",
      "val_loss = 2.2301164586369584\n",
      "best weights saved\n",
      "\n",
      "epoch = 6/15 learning rate = 0.000699999975040555\n"
     ]
    },
    {
     "name": "stderr",
     "output_type": "stream",
     "text": [
      "100%|██████████████████████████████████████████████████████████████████████████████| 2460/2460 [09:53<00:00,  4.15it/s]\n"
     ]
    },
    {
     "name": "stdout",
     "output_type": "stream",
     "text": [
      "train_loss = 1.7679002478433945\n",
      "val_loss = 2.17813205777145\n",
      "best weights saved\n",
      "\n",
      "epoch = 7/15 learning rate = 0.000699999975040555\n"
     ]
    },
    {
     "name": "stderr",
     "output_type": "stream",
     "text": [
      "100%|██████████████████████████████████████████████████████████████████████████████| 2460/2460 [10:08<00:00,  4.04it/s]\n"
     ]
    },
    {
     "name": "stdout",
     "output_type": "stream",
     "text": [
      "train_loss = 1.6214296473580292\n",
      "val_loss = 2.151785933099142\n",
      "best weights saved\n",
      "\n",
      "epoch = 8/15 learning rate = 0.000699999975040555\n"
     ]
    },
    {
     "name": "stderr",
     "output_type": "stream",
     "text": [
      "100%|██████████████████████████████████████████████████████████████████████████████| 2460/2460 [08:57<00:00,  4.58it/s]\n"
     ]
    },
    {
     "name": "stdout",
     "output_type": "stream",
     "text": [
      "train_loss = 1.4988592007432637\n",
      "val_loss = 2.1477927332001974\n",
      "best weights saved\n",
      "\n",
      "epoch = 9/15 learning rate = 0.000699999975040555\n"
     ]
    },
    {
     "name": "stderr",
     "output_type": "stream",
     "text": [
      "100%|██████████████████████████████████████████████████████████████████████████████| 2460/2460 [08:41<00:00,  4.71it/s]\n"
     ]
    },
    {
     "name": "stdout",
     "output_type": "stream",
     "text": [
      "train_loss = 1.392635791366689\n",
      "val_loss = 2.1267746454331933\n",
      "best weights saved\n",
      "\n",
      "epoch = 10/15 learning rate = 0.000699999975040555\n"
     ]
    },
    {
     "name": "stderr",
     "output_type": "stream",
     "text": [
      "100%|██████████████████████████████████████████████████████████████████████████████| 2460/2460 [09:11<00:00,  4.46it/s]\n"
     ]
    },
    {
     "name": "stdout",
     "output_type": "stream",
     "text": [
      "train_loss = 1.300641946939978\n",
      "val_loss = 2.1406820795400354\n",
      "\n",
      "epoch = 11/15 learning rate = 6.999999459367245e-05\n"
     ]
    },
    {
     "name": "stderr",
     "output_type": "stream",
     "text": [
      "100%|██████████████████████████████████████████████████████████████████████████████| 2460/2460 [08:13<00:00,  4.98it/s]\n"
     ]
    },
    {
     "name": "stdout",
     "output_type": "stream",
     "text": [
      "train_loss = 1.1695068141899247\n",
      "val_loss = 2.1185792079785974\n",
      "best weights saved\n",
      "\n",
      "epoch = 12/15 learning rate = 6.999999459367245e-05\n"
     ]
    },
    {
     "name": "stderr",
     "output_type": "stream",
     "text": [
      "100%|██████████████████████████████████████████████████████████████████████████████| 2460/2460 [08:23<00:00,  4.89it/s]\n"
     ]
    },
    {
     "name": "stdout",
     "output_type": "stream",
     "text": [
      "train_loss = 1.1412181715598773\n",
      "val_loss = 2.1221655560702812\n",
      "\n",
      "epoch = 13/15 learning rate = 6.999999641266186e-06\n"
     ]
    },
    {
     "name": "stderr",
     "output_type": "stream",
     "text": [
      "100%|██████████████████████████████████████████████████████████████████████████████| 2460/2460 [08:34<00:00,  4.78it/s]\n"
     ]
    },
    {
     "name": "stdout",
     "output_type": "stream",
     "text": [
      "train_loss = 1.1217504672133471\n",
      "val_loss = 2.144823453484512\n",
      "\n",
      "epoch = 14/15 learning rate = 6.999999868639861e-07\n"
     ]
    },
    {
     "name": "stderr",
     "output_type": "stream",
     "text": [
      "100%|██████████████████████████████████████████████████████████████████████████████| 2460/2460 [08:52<00:00,  4.62it/s]\n"
     ]
    },
    {
     "name": "stdout",
     "output_type": "stream",
     "text": [
      "train_loss = 1.1159849410960712\n",
      "val_loss = 2.1469393699149775\n",
      "\n",
      "epoch = 15/15 learning rate = 6.999999868639861e-08\n"
     ]
    },
    {
     "name": "stderr",
     "output_type": "stream",
     "text": [
      "100%|██████████████████████████████████████████████████████████████████████████████| 2460/2460 [11:23<00:00,  3.60it/s]\n"
     ]
    },
    {
     "name": "stdout",
     "output_type": "stream",
     "text": [
      "train_loss = 1.1159067783912249\n",
      "val_loss = 2.11981335577926\n",
      "\n"
     ]
    }
   ],
   "source": [
    "# train seq2seq model\n",
    "trainer.train(training_data=(xtrain,ytrain), validation_data=(xtest,ytest), batch_size=32, epochs=15)"
   ]
  },
  {
   "cell_type": "code",
   "execution_count": 32,
   "id": "3f71070f",
   "metadata": {},
   "outputs": [
    {
     "data": {
      "image/png": "[encoded data removed]",
      "text/plain": [
       "<Figure size 640x480 with 1 Axes>"
      ]
     },
     "metadata": {},
     "output_type": "display_data"
    }
   ],
   "source": [
    "# plot training logs\n",
    "trainer.plot_training_logs()"
   ]
  },
  {
   "cell_type": "code",
   "execution_count": 9,
   "id": "cf7a9214",
   "metadata": {},
   "outputs": [
    {
     "data": {
      "text/plain": [
       "<tensorflow.python.training.tracking.util.CheckpointLoadStatus at 0x21c2288b1f0>"
      ]
     },
     "execution_count": 9,
     "metadata": {},
     "output_type": "execute_result"
    }
   ],
   "source": [
    "# load best model weights\n",
    "en_model.load_weights('en_weights')\n",
    "dec_model.load_weights('dec_weights')"
   ]
  },
  {
   "cell_type": "code",
   "execution_count": 17,
   "id": "b3b9f553",
   "metadata": {},
   "outputs": [
    {
     "name": "stdout",
     "output_type": "stream",
     "text": [
      "<class 'pandas.core.frame.DataFrame'>\n",
      "RangeIndex: 4514 entries, 0 to 4513\n",
      "Data columns (total 2 columns):\n",
      " #   Column     Non-Null Count  Dtype \n",
      "---  ------     --------------  ----- \n",
      " 0   headlines  4514 non-null   object\n",
      " 1   text       4514 non-null   object\n",
      "dtypes: object(2)\n",
      "memory usage: 70.7+ KB\n"
     ]
    }
   ],
   "source": [
    "df = pd.read_csv('C:/Users/BJS/news_summary.csv',encoding='latin-1')\n",
    "df = df[['headlines','text']]\n",
    "df.info()"
   ]
  },
  {
   "cell_type": "code",
   "execution_count": 36,
   "id": "4d0d356e",
   "metadata": {},
   "outputs": [
    {
     "name": "stdout",
     "output_type": "stream",
     "text": [
      "Text : A man in Odisha's Puri area carried the dead body of his daughter on a trolley from a hospital as the mortuary vehicle failed to arrive on time. The man had taken his daughter to the hospital after she complained of chest pain, but the doctors declared her dead. The district administration has ordered a probe into the matter.\n",
      "\n",
      "actual summary : Man carries daughter's body on trolley as van arrives late\n",
      "prediction with beam size 1 : odisha man carries body of daughter body on trolley\n",
      "prediction with beam size 5 : bihar man carries body of daughter body on trolley\n",
      "prediction with beam size 10 : man carries daughter body on trolley after trolley\n",
      "prediction with beam size 50 : man carries daughter body on trolley on trolley\n",
      "------------------------------------------------------------------------------------------\n",
      "Text : Windies' highest run scorer in T20Is, Chris Gayle has been included in the 13-man squad for the one-off T20I against India, marking his return to the international circuit after a 15-month gap. Gayle's last international match was the World T20 final against England in April 2016. The T20I match between India and Windies will be held on July 9.\n",
      "\n",
      "actual summary : Gayle returns to WI squad after 15 months for India T20I\n",
      "prediction with beam size 1 : windies highest run scorer in t20is for 1st time in australia\n",
      "prediction with beam size 5 : windies highest run scorer in t20is for 1st time in australia\n",
      "prediction with beam size 10 : wi captain highest run scorer in t20is for 1st time t20i\n",
      "prediction with beam size 50 : wi captain highest run scorer in t20is for 1st time t20i\n",
      "------------------------------------------------------------------------------------------\n",
      "Text : Capita, one of the UK?s largest outsourcing companies, has demanded up to £21,000 (?17.7 lakh) from graduates who tried to leave an unpaid training scheme. Former trainees said the training lacked any on-the-job experience and called it ?absolutely useless?. Capita has said participants were made fully aware that free training is provided to only those who successfully complete the course.\n",
      "\n",
      "actual summary : Firm told unpaid trainees to pay over ?17 lakh for leaving\n",
      "prediction with beam size 1 : uk firm employees allege up students to pay over free\n",
      "prediction with beam size 5 : uk bank employees allege up students to pay ã¢ââ¹35 lakh\n",
      "prediction with beam size 10 : uk firm staff gives up students to pay ã¢ââ¹35 leave to leave\n",
      "prediction with beam size 50 : uk firm staff gives up students to pay ã¢ââ¹35 leave to leave\n",
      "------------------------------------------------------------------------------------------\n",
      "Text : A 28-year-old Delhi man was allegedly stabbed four times by a group of youths after he got into an argument for brushing past their scooty earlier that day. The man was reportedly treated and later discharged. A case of attempt to murder has been registered and the police are looking for the accused. \n",
      "\n",
      "actual summary : Biker stabbed 4 times for brushing past scooty in Delhi\n",
      "prediction with beam size 1 : delhi man stabbed 4 times over over argument\n",
      "prediction with beam size 5 : 15 year old delhi man stabbed for talking to fight\n",
      "prediction with beam size 10 : 15 year old delhi man stabbed for talking to fight\n",
      "prediction with beam size 50 : 15 yr old delhi man stabbed for talking in delhi\n",
      "------------------------------------------------------------------------------------------\n",
      "Text : Nawazuddin Siddiqui, while speaking about his tweet about being discriminated in the film industry on the basis of his skin colour, said it was just a reply to someone in the film industry. Nawazuddin further explained that his tweet was not directed towards the entire industry. \"These things are there everywhere, not just in Bollywood,\" he added.\n",
      "\n",
      "actual summary : Was a reply to someone: Siddiqui on tweet about skin colour\n",
      "prediction with beam size 1 : it is a place to me in my film nawazuddin on metoo row\n",
      "prediction with beam size 5 : it was an embarrassment to me nawazuddin on casting row\n",
      "prediction with beam size 10 : it was a place to me in my film nawazuddin siddiqui\n",
      "prediction with beam size 50 : i was an embarrassment on my skin colour nawazuddin siddiqui\n",
      "------------------------------------------------------------------------------------------\n",
      "Text : Rescue operations at the collapsed four-storey building in Mumbai's Ghatkopar ended on Wednesday after 30 hours, with the death toll rising to 17. Reportedly, 90 fire brigade personnel, 300 rescue workers, and 50 NDRF men participated in the rescue operations. A Shiv Sena leader who owned the building's ground floor was booked over renovations that weakened the building structure. \n",
      "\n",
      "actual summary : Rescue operations at collapsed Mumbai building last 30 hours\n",
      "prediction with beam size 1 : rescue operations in mumbai building collapse rises to 30 hours\n",
      "prediction with beam size 5 : operations rescue operations in mumbai building collapse rises\n",
      "prediction with beam size 10 : operations rescue operations in mumbai building collapse rises\n",
      "prediction with beam size 50 : operations rescue operations in mumbai building collapse rises\n",
      "------------------------------------------------------------------------------------------\n",
      "Text : Telugu actor Ravi Teja's brother Bhupatiraju Bharath Raju passed away on Saturday in Hyderabad in a car accident. Reports suggest Raju rammed the car into a parked lorry resulting in a head-on collision. \"We're yet to find out whether he was under the influence of alcohol or not. But he was speeding, which led to his death,\" said the police.\n",
      "\n",
      "actual summary : Telugu actor Ravi Teja's brother passes away in car accident\n",
      "prediction with beam size 1 : telugu actor brother dies in car accident in car accident\n",
      "prediction with beam size 5 : kannada actor brother dies in car accident in car accident\n",
      "prediction with beam size 10 : kamal rampal brother dies in car accident in car accident\n",
      "prediction with beam size 50 : prakash raj son brother dies in car accident in car accident\n",
      "------------------------------------------------------------------------------------------\n",
      "Text : Actor Shahid Kapoor's half-brother Ishaan Khattar took to social media to share pictures from his upcoming debut film 'Beyond The Clouds'. The film, directed by Iranian filmmaker Majid Majidi, will also star actress Malavika Mohanan, who will reportedly play Ishaan's sister. 'Beyond The Clouds' is said to be centred around a brother-sister relationship.\n",
      "\n",
      "actual summary : Shahid Kapoor's brother shares pic from sets of his film\n",
      "prediction with beam size 1 : shahid ishaan brother from pic from sets of film\n",
      "prediction with beam size 5 : ishaan khatter brother shares pic from his film out\n",
      "prediction with beam size 10 : afridi shares brother from his film sets his film reports\n",
      "prediction with beam size 50 : ishaan khatter brother shares pic from his film out\n",
      "------------------------------------------------------------------------------------------\n",
      "Text : Indian diplomat Deepak Mittal, refused to shake hands with Pakistan DG Mohammad Faisal, at the International Court of Justice after Kulbhushan Jadhav's hearing on Monday. Mittal instead responded with a 'Namaskar', folding his hands in response to Faisal's extended hand. However, Mittal shook hands with other members of the Pakistani delegation, including their main lawyer and attorney general.\n",
      "\n",
      "actual summary : Indian official does 'Namaskar' to Pak diplomat's handshake\n",
      "prediction with beam size 1 : indian american cricketer refuses to throw hands with pak\n",
      "prediction with beam size 5 : india pak captain refuses to throw handshake with him\n",
      "prediction with beam size 10 : sunil mittal refuses to describe hands with pak\n",
      "prediction with beam size 50 : sunil mittal refuses to describe hands with pak\n",
      "------------------------------------------------------------------------------------------\n",
      "Text : An Amarnath pilgrim, who was part of the convoy attacked by terrorists last week, succumbed to her injuries on Sunday, taking the death toll to eight. The 47-year-old woman, Lalita, was on the bus on which terrorists opened fire while it was returning from Amarnath. The government has announced a compensation of ?7 lakh for those killed in the attack.\n",
      "\n",
      "actual summary : Amarnath pilgrim succumbs to injuries, attack toll reaches 8\n",
      "prediction with beam size 1 : amarnath pilgrim attack victims to avenge death toll\n"
     ]
    },
    {
     "name": "stdout",
     "output_type": "stream",
     "text": [
      "prediction with beam size 5 : amarnath pilgrim attack victims to avenge death toll\n",
      "prediction with beam size 10 : amarnath pilgrim attack victims to avenge death toll\n",
      "prediction with beam size 50 : amarnath pilgrim attack victims to avenge death toll\n",
      "------------------------------------------------------------------------------------------\n"
     ]
    }
   ],
   "source": [
    "# make predictions\n",
    "\n",
    "idx = np.random.randint(0,len(df),(10,))\n",
    "for i in idx:\n",
    "    text = df.text[i]\n",
    "    actual = df.headlines[i]\n",
    "    \n",
    "    print('Text :',text+'\\n')\n",
    "    \n",
    "    print('actual summary :',actual)\n",
    "    print(\"prediction with beam size 1 :\",trainer.predict(text,beam_size=1))\n",
    "    print(\"prediction with beam size 5 :\",trainer.predict(text,beam_size=5))\n",
    "    print(\"prediction with beam size 10 :\",trainer.predict(text,beam_size=10))\n",
    "    print(\"prediction with beam size 50 :\",trainer.predict(text,beam_size=50))\n",
    "    print(\"------------------------------------------------------------------------------------------\")"
   ]
  },
  {
   "cell_type": "code",
   "execution_count": null,
   "id": "d236176a",
   "metadata": {},
   "outputs": [],
   "source": []
  }
 ],
 "metadata": {
  "kernelspec": {
   "display_name": "Python 3 (ipykernel)",
   "language": "python",
   "name": "python3"
  },
  "language_info": {
   "codemirror_mode": {
    "name": "ipython",
    "version": 3
   },
   "file_extension": ".py",
   "mimetype": "text/x-python",
   "name": "python",
   "nbconvert_exporter": "python",
   "pygments_lexer": "ipython3",
   "version": "3.8.8"
  }
 },
 "nbformat": 4,
 "nbformat_minor": 5
}
