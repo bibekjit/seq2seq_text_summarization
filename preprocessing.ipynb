{
 "cells": [
  {
   "cell_type": "code",
   "execution_count": 1,
   "id": "1fa9b29f",
   "metadata": {},
   "outputs": [
    {
     "name": "stdout",
     "output_type": "stream",
     "text": [
      "<class 'pandas.core.frame.DataFrame'>\n",
      "RangeIndex: 98401 entries, 0 to 98400\n",
      "Data columns (total 2 columns):\n",
      " #   Column     Non-Null Count  Dtype \n",
      "---  ------     --------------  ----- \n",
      " 0   headlines  98401 non-null  object\n",
      " 1   text       98401 non-null  object\n",
      "dtypes: object(2)\n",
      "memory usage: 1.5+ MB\n"
     ]
    }
   ],
   "source": [
    "import pandas as pd\n",
    "import numpy as np\n",
    "import matplotlib.pyplot as plt\n",
    "import spacy\n",
    "import contractions\n",
    "from tqdm import tqdm\n",
    "\n",
    "spacy.prefer_gpu()\n",
    "en_model = spacy.load('en_core_web_md')\n",
    "data = pd.read_csv('news_summary_more.csv',encoding='latin-1')\n",
    "data.info()"
   ]
  },
  {
   "cell_type": "code",
   "execution_count": 2,
   "id": "935609f4",
   "metadata": {},
   "outputs": [],
   "source": [
    "def clean_text(text):\n",
    "    toks = text.lower().split()\n",
    "    toks = [contractions.fix(t) for t in toks]\n",
    "    toks = en_model(\" \".join(toks))\n",
    "    toks = [str(t) for t in toks if (not t.is_punct) and (str(t)!=\"'s\")]\n",
    "    return \" \".join(toks)\n",
    "\n",
    "data['clean_headlines'] = data.headlines.apply(lambda x: \"<sos> \" + clean_text(x) + \" <eos>\")\n",
    "data['clean_text'] = data.text.apply(lambda x: clean_text(x))\n"
   ]
  },
  {
   "cell_type": "code",
   "execution_count": 3,
   "id": "a54f2924",
   "metadata": {},
   "outputs": [],
   "source": [
    "data['headlines_wf'] = data.clean_headlines.apply(lambda x: len(x.split()))\n",
    "data['text_wf'] = data.clean_text.apply(lambda x: len(x.split()))"
   ]
  },
  {
   "cell_type": "code",
   "execution_count": 4,
   "id": "3d60d696",
   "metadata": {},
   "outputs": [
    {
     "data": {
      "text/plain": [
       "array([[<AxesSubplot: title={'center': 'headlines_wf'}>,\n",
       "        <AxesSubplot: title={'center': 'text_wf'}>]], dtype=object)"
      ]
     },
     "execution_count": 4,
     "metadata": {},
     "output_type": "execute_result"
    },
    {
     "data": {
      "image/png": "[encoded data removed]",
      "text/plain": [
       "<Figure size 600x300 with 2 Axes>"
      ]
     },
     "metadata": {},
     "output_type": "display_data"
    }
   ],
   "source": [
    "data.hist(figsize=(6,3),bins=20)"
   ]
  },
  {
   "cell_type": "code",
   "execution_count": 5,
   "id": "6fe18510",
   "metadata": {},
   "outputs": [],
   "source": [
    "from tensorflow.keras.preprocessing.text import Tokenizer\n",
    "from tensorflow.keras.preprocessing.sequence import pad_sequences\n",
    "\n",
    "def non_rare_word_count(data,thresh=4):\n",
    "    tk = Tokenizer()\n",
    "    tk.fit_on_texts(data)\n",
    "    count = np.array(list(dict(tk.word_counts).values()), dtype='int32')\n",
    "    words = np.array(list(tk.word_counts), dtype='object')\n",
    "    rare_words = len([i for i in range(len(words)) if count[i] < thresh])\n",
    "    return len(tk.word_counts) - rare_words\n",
    "\n",
    "text_wc = non_rare_word_count(data.clean_text)\n",
    "headlines_wc = non_rare_word_count(data.clean_headlines)"
   ]
  },
  {
   "cell_type": "code",
   "execution_count": 6,
   "id": "5d5f17b0",
   "metadata": {},
   "outputs": [],
   "source": [
    "text_maxlen = max([len(x.split()) for x in data.clean_text])\n",
    "headlines_maxlen = max([len(x.split()) for x in data.clean_headlines])"
   ]
  },
  {
   "cell_type": "code",
   "execution_count": 7,
   "id": "3b8151f9",
   "metadata": {},
   "outputs": [],
   "source": [
    "xtk = Tokenizer(num_words = text_wc)\n",
    "xtk.fit_on_texts(data.clean_text)\n",
    "seq = xtk.texts_to_sequences(data.clean_text)\n",
    "x_padded = pad_sequences(seq,maxlen=text_maxlen,padding='post')\n",
    "x_voc = xtk.num_words+1\n",
    "\n",
    "ytk = Tokenizer(filters='',num_words=headlines_wc)\n",
    "ytk.fit_on_texts(data.clean_headlines)\n",
    "seq = ytk.texts_to_sequences(data.clean_headlines)\n",
    "y_padded = pad_sequences(seq,maxlen=headlines_maxlen,padding='post')\n",
    "y_voc = ytk.num_words+1"
   ]
  },
  {
   "cell_type": "code",
   "execution_count": 8,
   "id": "70c9b35d",
   "metadata": {},
   "outputs": [
    {
     "data": {
      "text/plain": [
       "(34842, 15398)"
      ]
     },
     "execution_count": 8,
     "metadata": {},
     "output_type": "execute_result"
    }
   ],
   "source": [
    "x_voc,y_voc"
   ]
  },
  {
   "cell_type": "code",
   "execution_count": 9,
   "id": "970d3d92",
   "metadata": {},
   "outputs": [],
   "source": [
    "from sklearn.model_selection import train_test_split\n",
    "import tensorflow as tf\n",
    "\n",
    "xtrain,xtest,ytrain,ytest = train_test_split(x_padded,y_padded,train_size=0.8)\n",
    "\n",
    "dataset = (xtrain,xtest,ytrain,ytest)"
   ]
  },
  {
   "cell_type": "code",
   "execution_count": 10,
   "id": "2bbec892",
   "metadata": {},
   "outputs": [],
   "source": [
    "import pickle\n",
    "\n",
    "def save_variable(var,name):\n",
    "    with open(name+'.pkl','wb') as f:\n",
    "        pickle.dump(var,f)\n",
    "        \n",
    "save_variable(xtk,'xtk')\n",
    "save_variable(ytk,'ytk')\n",
    "save_variable(dataset,'data')\n",
    "\n",
    "    "
   ]
  }
 ],
 "metadata": {
  "kernelspec": {
   "display_name": "Python 3 (ipykernel)",
   "language": "python",
   "name": "python3"
  },
  "language_info": {
   "codemirror_mode": {
    "name": "ipython",
    "version": 3
   },
   "file_extension": ".py",
   "mimetype": "text/x-python",
   "name": "python",
   "nbconvert_exporter": "python",
   "pygments_lexer": "ipython3",
   "version": "3.8.8"
  }
 },
 "nbformat": 4,
 "nbformat_minor": 5
}
